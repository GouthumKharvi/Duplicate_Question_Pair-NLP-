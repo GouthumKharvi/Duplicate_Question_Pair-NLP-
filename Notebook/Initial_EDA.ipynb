{
 "cells": [
  {
   "cell_type": "markdown",
   "id": "6d8d3b16",
   "metadata": {},
   "source": [
    "# Importing the Library"
   ]
  },
  {
   "cell_type": "code",
   "execution_count": 26,
   "id": "988e8da2",
   "metadata": {},
   "outputs": [],
   "source": [
    "import numpy as np\n",
    "import pandas as pd\n",
    "import seaborn as sns\n",
    "import matplotlib.pyplot as plt"
   ]
  },
  {
   "cell_type": "markdown",
   "id": "fe07b846",
   "metadata": {},
   "source": [
    "# Importing the Dataset"
   ]
  },
  {
   "cell_type": "code",
   "execution_count": 2,
   "id": "6a7e6c9c",
   "metadata": {},
   "outputs": [
    {
     "data": {
      "text/html": [
       "<div>\n",
       "<style scoped>\n",
       "    .dataframe tbody tr th:only-of-type {\n",
       "        vertical-align: middle;\n",
       "    }\n",
       "\n",
       "    .dataframe tbody tr th {\n",
       "        vertical-align: top;\n",
       "    }\n",
       "\n",
       "    .dataframe thead th {\n",
       "        text-align: right;\n",
       "    }\n",
       "</style>\n",
       "<table border=\"1\" class=\"dataframe\">\n",
       "  <thead>\n",
       "    <tr style=\"text-align: right;\">\n",
       "      <th></th>\n",
       "      <th>id</th>\n",
       "      <th>qid1</th>\n",
       "      <th>qid2</th>\n",
       "      <th>question1</th>\n",
       "      <th>question2</th>\n",
       "      <th>is_duplicate</th>\n",
       "    </tr>\n",
       "  </thead>\n",
       "  <tbody>\n",
       "    <tr>\n",
       "      <th>0</th>\n",
       "      <td>0</td>\n",
       "      <td>1</td>\n",
       "      <td>2</td>\n",
       "      <td>What is the step by step guide to invest in sh...</td>\n",
       "      <td>What is the step by step guide to invest in sh...</td>\n",
       "      <td>0</td>\n",
       "    </tr>\n",
       "    <tr>\n",
       "      <th>1</th>\n",
       "      <td>1</td>\n",
       "      <td>3</td>\n",
       "      <td>4</td>\n",
       "      <td>What is the story of Kohinoor (Koh-i-Noor) Dia...</td>\n",
       "      <td>What would happen if the Indian government sto...</td>\n",
       "      <td>0</td>\n",
       "    </tr>\n",
       "    <tr>\n",
       "      <th>2</th>\n",
       "      <td>2</td>\n",
       "      <td>5</td>\n",
       "      <td>6</td>\n",
       "      <td>How can I increase the speed of my internet co...</td>\n",
       "      <td>How can Internet speed be increased by hacking...</td>\n",
       "      <td>0</td>\n",
       "    </tr>\n",
       "    <tr>\n",
       "      <th>3</th>\n",
       "      <td>3</td>\n",
       "      <td>7</td>\n",
       "      <td>8</td>\n",
       "      <td>Why am I mentally very lonely? How can I solve...</td>\n",
       "      <td>Find the remainder when [math]23^{24}[/math] i...</td>\n",
       "      <td>0</td>\n",
       "    </tr>\n",
       "    <tr>\n",
       "      <th>4</th>\n",
       "      <td>4</td>\n",
       "      <td>9</td>\n",
       "      <td>10</td>\n",
       "      <td>Which one dissolve in water quikly sugar, salt...</td>\n",
       "      <td>Which fish would survive in salt water?</td>\n",
       "      <td>0</td>\n",
       "    </tr>\n",
       "    <tr>\n",
       "      <th>...</th>\n",
       "      <td>...</td>\n",
       "      <td>...</td>\n",
       "      <td>...</td>\n",
       "      <td>...</td>\n",
       "      <td>...</td>\n",
       "      <td>...</td>\n",
       "    </tr>\n",
       "    <tr>\n",
       "      <th>404285</th>\n",
       "      <td>404285</td>\n",
       "      <td>433578</td>\n",
       "      <td>379845</td>\n",
       "      <td>How many keywords are there in the Racket prog...</td>\n",
       "      <td>How many keywords are there in PERL Programmin...</td>\n",
       "      <td>0</td>\n",
       "    </tr>\n",
       "    <tr>\n",
       "      <th>404286</th>\n",
       "      <td>404286</td>\n",
       "      <td>18840</td>\n",
       "      <td>155606</td>\n",
       "      <td>Do you believe there is life after death?</td>\n",
       "      <td>Is it true that there is life after death?</td>\n",
       "      <td>1</td>\n",
       "    </tr>\n",
       "    <tr>\n",
       "      <th>404287</th>\n",
       "      <td>404287</td>\n",
       "      <td>537928</td>\n",
       "      <td>537929</td>\n",
       "      <td>What is one coin?</td>\n",
       "      <td>What's this coin?</td>\n",
       "      <td>0</td>\n",
       "    </tr>\n",
       "    <tr>\n",
       "      <th>404288</th>\n",
       "      <td>404288</td>\n",
       "      <td>537930</td>\n",
       "      <td>537931</td>\n",
       "      <td>What is the approx annual cost of living while...</td>\n",
       "      <td>I am having little hairfall problem but I want...</td>\n",
       "      <td>0</td>\n",
       "    </tr>\n",
       "    <tr>\n",
       "      <th>404289</th>\n",
       "      <td>404289</td>\n",
       "      <td>537932</td>\n",
       "      <td>537933</td>\n",
       "      <td>What is like to have sex with cousin?</td>\n",
       "      <td>What is it like to have sex with your cousin?</td>\n",
       "      <td>0</td>\n",
       "    </tr>\n",
       "  </tbody>\n",
       "</table>\n",
       "<p>404290 rows × 6 columns</p>\n",
       "</div>"
      ],
      "text/plain": [
       "            id    qid1    qid2  \\\n",
       "0            0       1       2   \n",
       "1            1       3       4   \n",
       "2            2       5       6   \n",
       "3            3       7       8   \n",
       "4            4       9      10   \n",
       "...        ...     ...     ...   \n",
       "404285  404285  433578  379845   \n",
       "404286  404286   18840  155606   \n",
       "404287  404287  537928  537929   \n",
       "404288  404288  537930  537931   \n",
       "404289  404289  537932  537933   \n",
       "\n",
       "                                                question1  \\\n",
       "0       What is the step by step guide to invest in sh...   \n",
       "1       What is the story of Kohinoor (Koh-i-Noor) Dia...   \n",
       "2       How can I increase the speed of my internet co...   \n",
       "3       Why am I mentally very lonely? How can I solve...   \n",
       "4       Which one dissolve in water quikly sugar, salt...   \n",
       "...                                                   ...   \n",
       "404285  How many keywords are there in the Racket prog...   \n",
       "404286          Do you believe there is life after death?   \n",
       "404287                                  What is one coin?   \n",
       "404288  What is the approx annual cost of living while...   \n",
       "404289              What is like to have sex with cousin?   \n",
       "\n",
       "                                                question2  is_duplicate  \n",
       "0       What is the step by step guide to invest in sh...             0  \n",
       "1       What would happen if the Indian government sto...             0  \n",
       "2       How can Internet speed be increased by hacking...             0  \n",
       "3       Find the remainder when [math]23^{24}[/math] i...             0  \n",
       "4                 Which fish would survive in salt water?             0  \n",
       "...                                                   ...           ...  \n",
       "404285  How many keywords are there in PERL Programmin...             0  \n",
       "404286         Is it true that there is life after death?             1  \n",
       "404287                                  What's this coin?             0  \n",
       "404288  I am having little hairfall problem but I want...             0  \n",
       "404289      What is it like to have sex with your cousin?             0  \n",
       "\n",
       "[404290 rows x 6 columns]"
      ]
     },
     "execution_count": 2,
     "metadata": {},
     "output_type": "execute_result"
    }
   ],
   "source": [
    "df = pd.read_csv(\"train.csv\")\n",
    "df"
   ]
  },
  {
   "cell_type": "markdown",
   "id": "a1b4d589",
   "metadata": {},
   "source": [
    "# To Check the Size Of the DataSet"
   ]
  },
  {
   "cell_type": "code",
   "execution_count": 3,
   "id": "868b8883",
   "metadata": {},
   "outputs": [
    {
     "data": {
      "text/plain": [
       "(404290, 6)"
      ]
     },
     "execution_count": 3,
     "metadata": {},
     "output_type": "execute_result"
    }
   ],
   "source": [
    "df.shape"
   ]
  },
  {
   "cell_type": "markdown",
   "id": "95e02198",
   "metadata": {},
   "source": [
    "# Check First 5 Rows From DataSet"
   ]
  },
  {
   "cell_type": "code",
   "execution_count": 4,
   "id": "125f236a",
   "metadata": {},
   "outputs": [
    {
     "data": {
      "text/html": [
       "<div>\n",
       "<style scoped>\n",
       "    .dataframe tbody tr th:only-of-type {\n",
       "        vertical-align: middle;\n",
       "    }\n",
       "\n",
       "    .dataframe tbody tr th {\n",
       "        vertical-align: top;\n",
       "    }\n",
       "\n",
       "    .dataframe thead th {\n",
       "        text-align: right;\n",
       "    }\n",
       "</style>\n",
       "<table border=\"1\" class=\"dataframe\">\n",
       "  <thead>\n",
       "    <tr style=\"text-align: right;\">\n",
       "      <th></th>\n",
       "      <th>id</th>\n",
       "      <th>qid1</th>\n",
       "      <th>qid2</th>\n",
       "      <th>question1</th>\n",
       "      <th>question2</th>\n",
       "      <th>is_duplicate</th>\n",
       "    </tr>\n",
       "  </thead>\n",
       "  <tbody>\n",
       "    <tr>\n",
       "      <th>0</th>\n",
       "      <td>0</td>\n",
       "      <td>1</td>\n",
       "      <td>2</td>\n",
       "      <td>What is the step by step guide to invest in sh...</td>\n",
       "      <td>What is the step by step guide to invest in sh...</td>\n",
       "      <td>0</td>\n",
       "    </tr>\n",
       "    <tr>\n",
       "      <th>1</th>\n",
       "      <td>1</td>\n",
       "      <td>3</td>\n",
       "      <td>4</td>\n",
       "      <td>What is the story of Kohinoor (Koh-i-Noor) Dia...</td>\n",
       "      <td>What would happen if the Indian government sto...</td>\n",
       "      <td>0</td>\n",
       "    </tr>\n",
       "    <tr>\n",
       "      <th>2</th>\n",
       "      <td>2</td>\n",
       "      <td>5</td>\n",
       "      <td>6</td>\n",
       "      <td>How can I increase the speed of my internet co...</td>\n",
       "      <td>How can Internet speed be increased by hacking...</td>\n",
       "      <td>0</td>\n",
       "    </tr>\n",
       "    <tr>\n",
       "      <th>3</th>\n",
       "      <td>3</td>\n",
       "      <td>7</td>\n",
       "      <td>8</td>\n",
       "      <td>Why am I mentally very lonely? How can I solve...</td>\n",
       "      <td>Find the remainder when [math]23^{24}[/math] i...</td>\n",
       "      <td>0</td>\n",
       "    </tr>\n",
       "    <tr>\n",
       "      <th>4</th>\n",
       "      <td>4</td>\n",
       "      <td>9</td>\n",
       "      <td>10</td>\n",
       "      <td>Which one dissolve in water quikly sugar, salt...</td>\n",
       "      <td>Which fish would survive in salt water?</td>\n",
       "      <td>0</td>\n",
       "    </tr>\n",
       "  </tbody>\n",
       "</table>\n",
       "</div>"
      ],
      "text/plain": [
       "   id  qid1  qid2                                          question1  \\\n",
       "0   0     1     2  What is the step by step guide to invest in sh...   \n",
       "1   1     3     4  What is the story of Kohinoor (Koh-i-Noor) Dia...   \n",
       "2   2     5     6  How can I increase the speed of my internet co...   \n",
       "3   3     7     8  Why am I mentally very lonely? How can I solve...   \n",
       "4   4     9    10  Which one dissolve in water quikly sugar, salt...   \n",
       "\n",
       "                                           question2  is_duplicate  \n",
       "0  What is the step by step guide to invest in sh...             0  \n",
       "1  What would happen if the Indian government sto...             0  \n",
       "2  How can Internet speed be increased by hacking...             0  \n",
       "3  Find the remainder when [math]23^{24}[/math] i...             0  \n",
       "4            Which fish would survive in salt water?             0  "
      ]
     },
     "execution_count": 4,
     "metadata": {},
     "output_type": "execute_result"
    }
   ],
   "source": [
    "df.head()"
   ]
  },
  {
   "cell_type": "markdown",
   "id": "30a63078",
   "metadata": {},
   "source": [
    "# Check Last 5 Rows From Dataset"
   ]
  },
  {
   "cell_type": "code",
   "execution_count": 5,
   "id": "fbe98c2b",
   "metadata": {},
   "outputs": [
    {
     "data": {
      "text/html": [
       "<div>\n",
       "<style scoped>\n",
       "    .dataframe tbody tr th:only-of-type {\n",
       "        vertical-align: middle;\n",
       "    }\n",
       "\n",
       "    .dataframe tbody tr th {\n",
       "        vertical-align: top;\n",
       "    }\n",
       "\n",
       "    .dataframe thead th {\n",
       "        text-align: right;\n",
       "    }\n",
       "</style>\n",
       "<table border=\"1\" class=\"dataframe\">\n",
       "  <thead>\n",
       "    <tr style=\"text-align: right;\">\n",
       "      <th></th>\n",
       "      <th>id</th>\n",
       "      <th>qid1</th>\n",
       "      <th>qid2</th>\n",
       "      <th>question1</th>\n",
       "      <th>question2</th>\n",
       "      <th>is_duplicate</th>\n",
       "    </tr>\n",
       "  </thead>\n",
       "  <tbody>\n",
       "    <tr>\n",
       "      <th>404285</th>\n",
       "      <td>404285</td>\n",
       "      <td>433578</td>\n",
       "      <td>379845</td>\n",
       "      <td>How many keywords are there in the Racket prog...</td>\n",
       "      <td>How many keywords are there in PERL Programmin...</td>\n",
       "      <td>0</td>\n",
       "    </tr>\n",
       "    <tr>\n",
       "      <th>404286</th>\n",
       "      <td>404286</td>\n",
       "      <td>18840</td>\n",
       "      <td>155606</td>\n",
       "      <td>Do you believe there is life after death?</td>\n",
       "      <td>Is it true that there is life after death?</td>\n",
       "      <td>1</td>\n",
       "    </tr>\n",
       "    <tr>\n",
       "      <th>404287</th>\n",
       "      <td>404287</td>\n",
       "      <td>537928</td>\n",
       "      <td>537929</td>\n",
       "      <td>What is one coin?</td>\n",
       "      <td>What's this coin?</td>\n",
       "      <td>0</td>\n",
       "    </tr>\n",
       "    <tr>\n",
       "      <th>404288</th>\n",
       "      <td>404288</td>\n",
       "      <td>537930</td>\n",
       "      <td>537931</td>\n",
       "      <td>What is the approx annual cost of living while...</td>\n",
       "      <td>I am having little hairfall problem but I want...</td>\n",
       "      <td>0</td>\n",
       "    </tr>\n",
       "    <tr>\n",
       "      <th>404289</th>\n",
       "      <td>404289</td>\n",
       "      <td>537932</td>\n",
       "      <td>537933</td>\n",
       "      <td>What is like to have sex with cousin?</td>\n",
       "      <td>What is it like to have sex with your cousin?</td>\n",
       "      <td>0</td>\n",
       "    </tr>\n",
       "  </tbody>\n",
       "</table>\n",
       "</div>"
      ],
      "text/plain": [
       "            id    qid1    qid2  \\\n",
       "404285  404285  433578  379845   \n",
       "404286  404286   18840  155606   \n",
       "404287  404287  537928  537929   \n",
       "404288  404288  537930  537931   \n",
       "404289  404289  537932  537933   \n",
       "\n",
       "                                                question1  \\\n",
       "404285  How many keywords are there in the Racket prog...   \n",
       "404286          Do you believe there is life after death?   \n",
       "404287                                  What is one coin?   \n",
       "404288  What is the approx annual cost of living while...   \n",
       "404289              What is like to have sex with cousin?   \n",
       "\n",
       "                                                question2  is_duplicate  \n",
       "404285  How many keywords are there in PERL Programmin...             0  \n",
       "404286         Is it true that there is life after death?             1  \n",
       "404287                                  What's this coin?             0  \n",
       "404288  I am having little hairfall problem but I want...             0  \n",
       "404289      What is it like to have sex with your cousin?             0  "
      ]
     },
     "execution_count": 5,
     "metadata": {},
     "output_type": "execute_result"
    }
   ],
   "source": [
    "df.tail()"
   ]
  },
  {
   "cell_type": "markdown",
   "id": "fdccefe6",
   "metadata": {},
   "source": [
    "# Check Random 15Rows From the DataSet"
   ]
  },
  {
   "cell_type": "code",
   "execution_count": 6,
   "id": "80841e7d",
   "metadata": {},
   "outputs": [
    {
     "data": {
      "text/html": [
       "<div>\n",
       "<style scoped>\n",
       "    .dataframe tbody tr th:only-of-type {\n",
       "        vertical-align: middle;\n",
       "    }\n",
       "\n",
       "    .dataframe tbody tr th {\n",
       "        vertical-align: top;\n",
       "    }\n",
       "\n",
       "    .dataframe thead th {\n",
       "        text-align: right;\n",
       "    }\n",
       "</style>\n",
       "<table border=\"1\" class=\"dataframe\">\n",
       "  <thead>\n",
       "    <tr style=\"text-align: right;\">\n",
       "      <th></th>\n",
       "      <th>id</th>\n",
       "      <th>qid1</th>\n",
       "      <th>qid2</th>\n",
       "      <th>question1</th>\n",
       "      <th>question2</th>\n",
       "      <th>is_duplicate</th>\n",
       "    </tr>\n",
       "  </thead>\n",
       "  <tbody>\n",
       "    <tr>\n",
       "      <th>103209</th>\n",
       "      <td>103209</td>\n",
       "      <td>170638</td>\n",
       "      <td>170639</td>\n",
       "      <td>What the hell is Tinder?</td>\n",
       "      <td>What is Tinder?</td>\n",
       "      <td>1</td>\n",
       "    </tr>\n",
       "    <tr>\n",
       "      <th>304514</th>\n",
       "      <td>304514</td>\n",
       "      <td>377141</td>\n",
       "      <td>375484</td>\n",
       "      <td>What is the standard of beauty in the Philippi...</td>\n",
       "      <td>What are the female beauty standards in Latvia?</td>\n",
       "      <td>0</td>\n",
       "    </tr>\n",
       "    <tr>\n",
       "      <th>274310</th>\n",
       "      <td>274310</td>\n",
       "      <td>392936</td>\n",
       "      <td>392937</td>\n",
       "      <td>What is the most difficult game?</td>\n",
       "      <td>Which is the most difficult game?</td>\n",
       "      <td>1</td>\n",
       "    </tr>\n",
       "    <tr>\n",
       "      <th>107099</th>\n",
       "      <td>107099</td>\n",
       "      <td>176280</td>\n",
       "      <td>170982</td>\n",
       "      <td>How is the process of getting pregnant on a fe...</td>\n",
       "      <td>Why can I only get pregnant on my fertile days?</td>\n",
       "      <td>1</td>\n",
       "    </tr>\n",
       "    <tr>\n",
       "      <th>69967</th>\n",
       "      <td>69967</td>\n",
       "      <td>120671</td>\n",
       "      <td>120672</td>\n",
       "      <td>What's your definition of freedom?</td>\n",
       "      <td>What is your definition of freedom?</td>\n",
       "      <td>1</td>\n",
       "    </tr>\n",
       "    <tr>\n",
       "      <th>81857</th>\n",
       "      <td>81857</td>\n",
       "      <td>138910</td>\n",
       "      <td>138911</td>\n",
       "      <td>How do I get into indian cricket team if I sta...</td>\n",
       "      <td>How can I join Indian cricket team?</td>\n",
       "      <td>1</td>\n",
       "    </tr>\n",
       "    <tr>\n",
       "      <th>197318</th>\n",
       "      <td>197318</td>\n",
       "      <td>298242</td>\n",
       "      <td>298243</td>\n",
       "      <td>The Dark Knight Rises (2012 movie): How does B...</td>\n",
       "      <td>Can anyone explain the stock scene in The Dark...</td>\n",
       "      <td>0</td>\n",
       "    </tr>\n",
       "    <tr>\n",
       "      <th>165228</th>\n",
       "      <td>165228</td>\n",
       "      <td>256610</td>\n",
       "      <td>256611</td>\n",
       "      <td>Did anyone find House of Cards boring?</td>\n",
       "      <td>Why is House of Cards so popular?</td>\n",
       "      <td>0</td>\n",
       "    </tr>\n",
       "    <tr>\n",
       "      <th>36374</th>\n",
       "      <td>36374</td>\n",
       "      <td>66332</td>\n",
       "      <td>66333</td>\n",
       "      <td>What salary do I need to buy a Tesla Model S?</td>\n",
       "      <td>Should I trade in my Audi Q7 or Prius and buy ...</td>\n",
       "      <td>0</td>\n",
       "    </tr>\n",
       "    <tr>\n",
       "      <th>294725</th>\n",
       "      <td>294725</td>\n",
       "      <td>6118</td>\n",
       "      <td>110077</td>\n",
       "      <td>How can I find out whether my partner is using...</td>\n",
       "      <td>How do you find out if your boyfriend is on da...</td>\n",
       "      <td>1</td>\n",
       "    </tr>\n",
       "    <tr>\n",
       "      <th>7279</th>\n",
       "      <td>7279</td>\n",
       "      <td>14224</td>\n",
       "      <td>14225</td>\n",
       "      <td>How can I get the typeface used for the Window...</td>\n",
       "      <td>Google 360 degree Street View Camera?</td>\n",
       "      <td>0</td>\n",
       "    </tr>\n",
       "    <tr>\n",
       "      <th>16537</th>\n",
       "      <td>16537</td>\n",
       "      <td>31519</td>\n",
       "      <td>31520</td>\n",
       "      <td>What is straight pipe exhaust?</td>\n",
       "      <td>What's the use of the exhaust pipe in a bike? ...</td>\n",
       "      <td>0</td>\n",
       "    </tr>\n",
       "    <tr>\n",
       "      <th>366989</th>\n",
       "      <td>366989</td>\n",
       "      <td>37232</td>\n",
       "      <td>497250</td>\n",
       "      <td>How can I be a better husband?</td>\n",
       "      <td>How can I be a better wife?</td>\n",
       "      <td>0</td>\n",
       "    </tr>\n",
       "    <tr>\n",
       "      <th>134987</th>\n",
       "      <td>134987</td>\n",
       "      <td>215656</td>\n",
       "      <td>17770</td>\n",
       "      <td>How do I download einthusian movies?</td>\n",
       "      <td>How do I download movies without torrent?</td>\n",
       "      <td>0</td>\n",
       "    </tr>\n",
       "    <tr>\n",
       "      <th>179823</th>\n",
       "      <td>179823</td>\n",
       "      <td>89347</td>\n",
       "      <td>275832</td>\n",
       "      <td>Why do Asian girls like white guys?</td>\n",
       "      <td>Why do asian girls like dating white guys?</td>\n",
       "      <td>0</td>\n",
       "    </tr>\n",
       "  </tbody>\n",
       "</table>\n",
       "</div>"
      ],
      "text/plain": [
       "            id    qid1    qid2  \\\n",
       "103209  103209  170638  170639   \n",
       "304514  304514  377141  375484   \n",
       "274310  274310  392936  392937   \n",
       "107099  107099  176280  170982   \n",
       "69967    69967  120671  120672   \n",
       "81857    81857  138910  138911   \n",
       "197318  197318  298242  298243   \n",
       "165228  165228  256610  256611   \n",
       "36374    36374   66332   66333   \n",
       "294725  294725    6118  110077   \n",
       "7279      7279   14224   14225   \n",
       "16537    16537   31519   31520   \n",
       "366989  366989   37232  497250   \n",
       "134987  134987  215656   17770   \n",
       "179823  179823   89347  275832   \n",
       "\n",
       "                                                question1  \\\n",
       "103209                           What the hell is Tinder?   \n",
       "304514  What is the standard of beauty in the Philippi...   \n",
       "274310                   What is the most difficult game?   \n",
       "107099  How is the process of getting pregnant on a fe...   \n",
       "69967                  What's your definition of freedom?   \n",
       "81857   How do I get into indian cricket team if I sta...   \n",
       "197318  The Dark Knight Rises (2012 movie): How does B...   \n",
       "165228             Did anyone find House of Cards boring?   \n",
       "36374       What salary do I need to buy a Tesla Model S?   \n",
       "294725  How can I find out whether my partner is using...   \n",
       "7279    How can I get the typeface used for the Window...   \n",
       "16537                      What is straight pipe exhaust?   \n",
       "366989                     How can I be a better husband?   \n",
       "134987               How do I download einthusian movies?   \n",
       "179823                Why do Asian girls like white guys?   \n",
       "\n",
       "                                                question2  is_duplicate  \n",
       "103209                                    What is Tinder?             1  \n",
       "304514    What are the female beauty standards in Latvia?             0  \n",
       "274310                  Which is the most difficult game?             1  \n",
       "107099    Why can I only get pregnant on my fertile days?             1  \n",
       "69967                 What is your definition of freedom?             1  \n",
       "81857                 How can I join Indian cricket team?             1  \n",
       "197318  Can anyone explain the stock scene in The Dark...             0  \n",
       "165228                  Why is House of Cards so popular?             0  \n",
       "36374   Should I trade in my Audi Q7 or Prius and buy ...             0  \n",
       "294725  How do you find out if your boyfriend is on da...             1  \n",
       "7279                Google 360 degree Street View Camera?             0  \n",
       "16537   What's the use of the exhaust pipe in a bike? ...             0  \n",
       "366989                        How can I be a better wife?             0  \n",
       "134987          How do I download movies without torrent?             0  \n",
       "179823         Why do asian girls like dating white guys?             0  "
      ]
     },
     "execution_count": 6,
     "metadata": {},
     "output_type": "execute_result"
    }
   ],
   "source": [
    "df.sample(15)"
   ]
  },
  {
   "cell_type": "code",
   "execution_count": 7,
   "id": "e4e7a3f4",
   "metadata": {},
   "outputs": [],
   "source": [
    "##Note: is_duplicate 0 Means 2 question are not same both question is Differnt \n",
    "     ## is_duplicate 1 Means 2 question are  same both question is same and we should consider them as Duplicate\n"
   ]
  },
  {
   "cell_type": "markdown",
   "id": "345e14ce",
   "metadata": {},
   "source": [
    "# Check Datatypes of this DataSet"
   ]
  },
  {
   "cell_type": "code",
   "execution_count": 8,
   "id": "236c1384",
   "metadata": {},
   "outputs": [
    {
     "name": "stdout",
     "output_type": "stream",
     "text": [
      "<class 'pandas.core.frame.DataFrame'>\n",
      "RangeIndex: 404290 entries, 0 to 404289\n",
      "Data columns (total 6 columns):\n",
      " #   Column        Non-Null Count   Dtype \n",
      "---  ------        --------------   ----- \n",
      " 0   id            404290 non-null  int64 \n",
      " 1   qid1          404290 non-null  int64 \n",
      " 2   qid2          404290 non-null  int64 \n",
      " 3   question1     404289 non-null  object\n",
      " 4   question2     404288 non-null  object\n",
      " 5   is_duplicate  404290 non-null  int64 \n",
      "dtypes: int64(4), object(2)\n",
      "memory usage: 18.5+ MB\n"
     ]
    }
   ],
   "source": [
    "df.info()"
   ]
  },
  {
   "cell_type": "markdown",
   "id": "cd727fc8",
   "metadata": {},
   "source": [
    "# Check Missing Values"
   ]
  },
  {
   "cell_type": "code",
   "execution_count": 9,
   "id": "b06c696a",
   "metadata": {},
   "outputs": [
    {
     "data": {
      "text/plain": [
       "id              0\n",
       "qid1            0\n",
       "qid2            0\n",
       "question1       1\n",
       "question2       2\n",
       "is_duplicate    0\n",
       "dtype: int64"
      ]
     },
     "execution_count": 9,
     "metadata": {},
     "output_type": "execute_result"
    }
   ],
   "source": [
    "df.isnull().sum()"
   ]
  },
  {
   "cell_type": "code",
   "execution_count": 10,
   "id": "5cdf8f66",
   "metadata": {},
   "outputs": [],
   "source": [
    "# We can see there is 1Question missing in Question 1 row\n",
    "# and there is 2question missing in Question 2 row"
   ]
  },
  {
   "cell_type": "markdown",
   "id": "f2466f8b",
   "metadata": {},
   "source": [
    "# Check Duplicate Values "
   ]
  },
  {
   "cell_type": "code",
   "execution_count": 11,
   "id": "4c825ce7",
   "metadata": {},
   "outputs": [
    {
     "data": {
      "text/plain": [
       "0"
      ]
     },
     "execution_count": 11,
     "metadata": {},
     "output_type": "execute_result"
    }
   ],
   "source": [
    "df.duplicated().sum()"
   ]
  },
  {
   "cell_type": "code",
   "execution_count": 12,
   "id": "0ee8fb9a",
   "metadata": {},
   "outputs": [],
   "source": [
    "#We can See there is No completely duplicated rows in this Dataset"
   ]
  },
  {
   "cell_type": "markdown",
   "id": "32d4924f",
   "metadata": {},
   "source": [
    "# Distribution Of Duplicated and Non-Duplicate Question"
   ]
  },
  {
   "cell_type": "code",
   "execution_count": 22,
   "id": "99fc42c1",
   "metadata": {},
   "outputs": [
    {
     "name": "stdout",
     "output_type": "stream",
     "text": [
      "is_duplicate\n",
      "0    255027\n",
      "1    149263\n",
      "Name: count, dtype: int64\n",
      "is_duplicate\n",
      "0    63.080215\n",
      "1    36.919785\n",
      "Name: count, dtype: float64\n"
     ]
    },
    {
     "data": {
      "text/plain": [
       "<Axes: xlabel='is_duplicate'>"
      ]
     },
     "execution_count": 22,
     "metadata": {},
     "output_type": "execute_result"
    },
    {
     "data": {
      "image/png": "[encoded data removed]",
      "text/plain": [
       "<Figure size 640x480 with 1 Axes>"
      ]
     },
     "metadata": {},
     "output_type": "display_data"
    }
   ],
   "source": [
    "print(df['is_duplicate'].value_counts())                                      #value_counts wil count duplicate value \n",
    "print((df['is_duplicate'].value_counts()/df['is_duplicate'].count())*100)\n",
    "df['is_duplicate'].value_counts().plot(kind='bar')"
   ]
  },
  {
   "cell_type": "code",
   "execution_count": 23,
   "id": "03c4b668",
   "metadata": {},
   "outputs": [],
   "source": [
    "#We can see Unbalance in Datset because we can see more results from '0'"
   ]
  },
  {
   "cell_type": "markdown",
   "id": "a138dd70",
   "metadata": {},
   "source": [
    "# Check Repeated Questions In this Dataset"
   ]
  },
  {
   "cell_type": "code",
   "execution_count": 31,
   "id": "005bc9b7",
   "metadata": {},
   "outputs": [
    {
     "name": "stdout",
     "output_type": "stream",
     "text": [
      "Number Of Unique Questions: 537933\n",
      "Number Of Questions Repeated: 111780\n"
     ]
    }
   ],
   "source": [
    "# 1. Combine the two columns into a single Series\n",
    "qid = pd.Series(df['qid1'].tolist() + df['qid2'].tolist())\n",
    "\n",
    "# 2. Print the number of unique questions\n",
    "print(\"Number Of Unique Questions:\", np.unique(qid).shape[0])\n",
    "\n",
    "# 3. Count occurrences of each question and identify repeated questions\n",
    "x = qid.value_counts() > 1\n",
    "\n",
    "# 4. Print the number of questions that are repeated\n",
    "print(\"Number Of Questions Repeated:\", x[x].shape[0])"
   ]
  },
  {
   "cell_type": "markdown",
   "id": "0fcfa30c",
   "metadata": {},
   "source": [
    "# Number of Unique Vs Repeated Questions(Plot)"
   ]
  },
  {
   "cell_type": "code",
   "execution_count": 33,
   "id": "e1f3f71e",
   "metadata": {},
   "outputs": [
    {
     "data": {
      "image/png": "[encoded data removed]",
      "text/plain": [
       "<Figure size 1000x600 with 1 Axes>"
      ]
     },
     "metadata": {},
     "output_type": "display_data"
    }
   ],
   "source": [
    "# Plotting\n",
    "plt.figure(figsize=(10, 6))\n",
    "bar_plot = sns.barplot(x='Category', y='Count', data=df_plot, palette='viridis')\n",
    "\n",
    "# Adding exact values on top of the bars\n",
    "for p in bar_plot.patches:\n",
    "    bar_plot.annotate(format(p.get_height(), '.0f'), \n",
    "                      (p.get_x() + p.get_width() / 2., p.get_height()), \n",
    "                      ha = 'center', va = 'center',\n",
    "                      xytext = (0, 10), \n",
    "                      textcoords = 'offset points')\n",
    "\n",
    "plt.title('Number of Unique vs. Repeated Questions')\n",
    "plt.xlabel('Category')\n",
    "plt.ylabel('Count')\n",
    "plt.show()"
   ]
  },
  {
   "cell_type": "markdown",
   "id": "365bccea",
   "metadata": {},
   "source": [
    "# Repeated Questions Histogram"
   ]
  },
  {
   "cell_type": "code",
   "execution_count": 34,
   "id": "5c69abc2",
   "metadata": {},
   "outputs": [
    {
     "data": {
      "image/png": "[encoded data removed]",
      "text/plain": [
       "<Figure size 640x480 with 1 Axes>"
      ]
     },
     "metadata": {},
     "output_type": "display_data"
    }
   ],
   "source": [
    "plt.hist(qid.value_counts().values, bins = 160)\n",
    "plt.yscale('log')\n",
    "plt.show()"
   ]
  },
  {
   "cell_type": "code",
   "execution_count": null,
   "id": "1ac7756b",
   "metadata": {},
   "outputs": [],
   "source": []
  }
 ],
 "metadata": {
  "kernelspec": {
   "display_name": "Python 3 (ipykernel)",
   "language": "python",
   "name": "python3"
  },
  "language_info": {
   "codemirror_mode": {
    "name": "ipython",
    "version": 3
   },
   "file_extension": ".py",
   "mimetype": "text/x-python",
   "name": "python",
   "nbconvert_exporter": "python",
   "pygments_lexer": "ipython3",
   "version": "3.11.5"
  }
 },
 "nbformat": 4,
 "nbformat_minor": 5
}
